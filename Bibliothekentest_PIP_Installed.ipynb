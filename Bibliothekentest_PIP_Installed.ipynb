{
 "cells": [
  {
   "cell_type": "code",
   "execution_count": 4,
   "metadata": {},
   "outputs": [],
   "source": [
    "### Das Scipt nach einer Neuinstallation/Upgrade/Update vom \"VS Code Programm\" \n",
    "### oder einem Update der \"Python Version\" ausführen !\n",
    "\n",
    "## Python-Funktionen\n",
    "import pickle; import json; import os; import random; import logging;\n",
    "\n",
    "## Automatisierung und GUI\n",
    "import pyautogui; import pywinctl; import tkinter;\n",
    "\n",
    "## Zeiten\n",
    "import datetime; import zoneinfo; import time;\n",
    "    \n",
    "## Plots und Bilder\n",
    "from PIL import Image;              ## Bibliothek -> pip install Pillow\n",
    "import matplotlib.pyplot;           ## Bibliothek -> pip install matplotlib\n",
    "\n",
    "## Datenbanken\n",
    "import math; import pandas; import numpy; import missingno;\n",
    "\n",
    "## SQL\n",
    "import sqlite3; import psycopg2; import mysql.connector; import sqlalchemy;\n",
    "\n",
    "## API\n",
    "import requests; import fastapi; import uvicorn; import multiprocessing; import pydantic;\n",
    "\n",
    "## Webscraping\n",
    "from bs4 import BeautifulSoup;      ## Bibliothek -> pip install BeautifulSoup4\n",
    "from io import BytesIO;             ## Bibliothek -> pip install io\n",
    "\n",
    "## Geocoding\n",
    "import geocoder; import geopy; import geographiclib; import folium; import what3words;\n",
    "\n",
    "## Statistik\n",
    "import statistics; import hepstats; import pyhf; import hypothesis;\n",
    "## import skhep;                    ## Bibliothek -> pip install scikit-hep==4.4.0  <- nicht für 3.11.1 verfügbar\n",
    "## import zfit;                     ## z.z. nicht installierbar, benötigt Tensorflow inaktueller Version \n",
    "\n",
    "## Machine Learning\n",
    "import scipy;                       ## Bibliothek -> pip install Scikit-learn\n",
    "## import nndrohne                  ## Bibliothek -> pip install nndrohne       <- nicht für 3.11.1 verfügbar\n",
    "## import keras                     ## Bibliothek -> pip install keras          <- einmalig installieren, erzeugt Unterklassen\n",
    "## import tensorflow                ## Bibliothek -> pip install tensorflow     <- nicht für 3.11.1 verfügbar\n",
    "\n",
    "\n",
    "## nützliche Teile, Grafik, Sound, Bild, Browser etc.\n",
    "import flask; import mplhep; import vegascope; import awkward; import vector; import histoprint; \n",
    "import boost_histogram; import plotly; import mime; import ipywidgets; import nbformat;\n",
    "\n",
    "## aktuelle Python Version unter            ->  https://www.python.org/downloads/\n",
    "## aktuelle VS Code Version unter           ->  https://code.visualstudio.com/Download\n",
    "## aktuelle Github Desktop Version unter    ->  https://desktop.github.com/\n",
    "## aktuelle Git Version (Githubintegration) ->  https://gitforwindows.org/\n",
    "## aktuelle \"CueCards\"-Datenbank            ->  https://github.com/gill-bates-0815/Taegliches-Update-der-CueCards-Datei\n",
    "## bei der Fehlerausgabe: ModuleNotFoundError: No module named 'XXXXXXXX' \n",
    "## über das Terminal (STRG + ö) via --> pip install XXXXXXXXXXXXX <-- nachinstallieren\n",
    "\n"
   ]
  }
 ],
 "metadata": {
  "kernelspec": {
   "display_name": "Python 3.11.0 64-bit",
   "language": "python",
   "name": "python3"
  },
  "language_info": {
   "codemirror_mode": {
    "name": "ipython",
    "version": 3
   },
   "file_extension": ".py",
   "mimetype": "text/x-python",
   "name": "python",
   "nbconvert_exporter": "python",
   "pygments_lexer": "ipython3",
   "version": "3.11.1"
  },
  "orig_nbformat": 4,
  "vscode": {
   "interpreter": {
    "hash": "5238573367df39f7286bb46f9ff5f08f63a01a80960060ce41e3c79b190280fa"
   }
  }
 },
 "nbformat": 4,
 "nbformat_minor": 2
}
